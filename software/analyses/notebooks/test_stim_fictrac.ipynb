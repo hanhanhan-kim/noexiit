{
 "cells": [
  {
   "cell_type": "code",
   "execution_count": null,
   "metadata": {},
   "outputs": [],
   "source": [
    "import glob\n",
    "from sys import exit, path\n",
    "from os.path import join, expanduser, exists\n",
    "\n",
    "import numpy as np\n",
    "import pandas as pd\n",
    "import scipy.interpolate as spi\n",
    "import scipy.signal as sps\n",
    "\n",
    "from bokeh.io import output_file, export_png, export_svgs, show, output_notebook\n",
    "from bokeh.transform import linear_cmap\n",
    "from bokeh.plotting import figure\n",
    "from bokeh.models import ColorBar, ColumnDataSource, Span\n",
    "from bokeh.layouts import gridplot\n",
    "import bokeh.palettes\n",
    "import colorcet as cc\n",
    "\n",
    "path.insert(1, expanduser('~/src/noexiit/software/analyses'))\n",
    "\n",
    "output_notebook()"
   ]
  },
  {
   "cell_type": "code",
   "execution_count": null,
   "metadata": {},
   "outputs": [],
   "source": [
    "from analyze_fictrac import parse_dats\n",
    "from analyze_fictrac import unconcat_df\n",
    "\n",
    "pson_open_loop = parse_dats(\"/mnt/2TB/data_in/HK_20200317/pson_open_loop/\", 1, 5, \"offline\")\n",
    "dcor_open_loop = parse_dats(\"/mnt/2TB/data_in/HK_20200316/dcor_open_loop/\", 1, 5, \"offline\")"
   ]
  },
  {
   "cell_type": "code",
   "execution_count": null,
   "metadata": {},
   "outputs": [],
   "source": [
    "pson_open_loop_list = unconcat_df(pson_open_loop)\n",
    "dcor_open_loop_list = unconcat_df(dcor_open_loop)"
   ]
  },
  {
   "cell_type": "markdown",
   "metadata": {},
   "source": [
    "# Stimulus analyses"
   ]
  },
  {
   "cell_type": "markdown",
   "metadata": {},
   "source": [
    "**Goal:** I have the beetle position relative to the ball map, and the ant position relative to the beetle position. What I want is to show the ant position relative to the ball map, as well as the beetle position relative to the ball map. I.e. I want to show beetle and ant movements relative to the same frame of reference."
   ]
  },
  {
   "cell_type": "code",
   "execution_count": null,
   "metadata": {},
   "outputs": [],
   "source": [
    "stims_pson_open_loop = sorted(glob.glob(\"/mnt/2TB/data_in/HK_20200317/pson_open_loop/*/stimulus/*.csv\"))\n",
    "stims_pson_open_loop_list = [pd.read_csv(stim) for stim in stims_pson_open_loop]"
   ]
  },
  {
   "cell_type": "markdown",
   "metadata": {},
   "source": [
    "To work through a putative set of analyses, let's platy around with **one pair** of corresponding dataframes:"
   ]
  },
  {
   "cell_type": "code",
   "execution_count": null,
   "metadata": {},
   "outputs": [],
   "source": [
    "stims_pson_open_loop_list[6].tail()"
   ]
  },
  {
   "cell_type": "code",
   "execution_count": null,
   "metadata": {},
   "outputs": [],
   "source": [
    "pson_open_loop_list[6].tail()"
   ]
  },
  {
   "cell_type": "code",
   "execution_count": null,
   "metadata": {},
   "outputs": [],
   "source": [
    "stim_df = stims_pson_open_loop_list[6]\n",
    "fictrac_df = pson_open_loop_list[6]"
   ]
  },
  {
   "cell_type": "markdown",
   "metadata": {},
   "source": [
    "We begin by interpolating from the 0 to 180 degrees range of the servo output, to real world values of 0 to 27 mm, which is the physical range of the servo output. We know this relationship is linear. Remember, this distance is the distance the servo, i.e. stimulus traveled. "
   ]
  },
  {
   "cell_type": "code",
   "execution_count": null,
   "metadata": {},
   "outputs": [],
   "source": [
    "# Generate interpolation function:\n",
    "f_servo = spi.interp1d(np.linspace(0,180),np.linspace(0,27))\n",
    "\n",
    "# Apply function:\n",
    "stim_df[\"Servo output (mm)\"] =  f_servo(stim_df[\"Servo output (degs)\"])\n",
    "stim_df.tail()"
   ]
  },
  {
   "cell_type": "markdown",
   "metadata": {},
   "source": [
    "We next need to align our dataframes.\n",
    "First, rename `Elapsed time` in the `stim_df` so it shares the column name `secs_elapsed` with the `fictrac_df`."
   ]
  },
  {
   "cell_type": "code",
   "execution_count": null,
   "metadata": {},
   "outputs": [],
   "source": [
    "stim_df = stim_df.rename(columns={\"Elapsed time\": \"secs_elapsed\"})"
   ]
  },
  {
   "cell_type": "markdown",
   "metadata": {},
   "source": [
    "We now need to merge the two dataframes according to the common `secs_elapsed` column we just made. We are going to use the `merge_ordered` method, with the `fill_method` set to `ffill`, which means \"forward fill\". Forward fill takes care of `NaN` values by propagating the last valid observation forward."
   ]
  },
  {
   "cell_type": "code",
   "execution_count": null,
   "metadata": {},
   "outputs": [],
   "source": [
    "df_merged = pd.merge_ordered(stim_df, fictrac_df, on=\"secs_elapsed\", fill_method=\"ffill\")\n",
    "df_merged.tail() "
   ]
  },
  {
   "cell_type": "markdown",
   "metadata": {},
   "source": [
    "But see how the last values are longer than acceptable propagations of the last valid observation from the shorter dataframe? \n",
    "Performing the forward fill propagated the _last_ valid observation for a longer than acceptable amount of time. We need to truncate the longer dataframe so that the entries on its last row is as close to the entries on the last row of the smaller dataframe. For example, if one dataframe recorded for 96 seconds, and the other for 100 seconds, then the forward fill method will propagate in the merged dataframe, the value from the 96th second all the way to the 100 second mark. That's 4 whole seconds of propagation, which is a long time, especially if our sampling frequency is much shorter than that. We handle this artifact with a simple function:"
   ]
  },
  {
   "cell_type": "code",
   "execution_count": null,
   "metadata": {},
   "outputs": [],
   "source": [
    "def get_smaller_last_val_in_col(df1, df2, common_col):\n",
    "    assert common_col in df1 and common_col in df2, \\\n",
    "        f\"{df1} and {df2} do not share {common_col}\"\n",
    "    \n",
    "    compare = float(df1[common_col].tail(1)) > float(df2[common_col].tail(1))\n",
    "    if compare is True:\n",
    "        return float(df2[common_col].tail(1))\n",
    "    else:\n",
    "        return float(df1[common_col].tail(1))"
   ]
  },
  {
   "cell_type": "code",
   "execution_count": null,
   "metadata": {},
   "outputs": [],
   "source": [
    "smaller_last_val = get_smaller_last_val_in_col(stim_df, fictrac_df, \"secs_elapsed\")\n",
    "smaller_last_val "
   ]
  },
  {
   "cell_type": "code",
   "execution_count": null,
   "metadata": {},
   "outputs": [],
   "source": [
    "# Drop anything larger than the smaller last val:\n",
    "df_merged_trunc = df_merged[df_merged.secs_elapsed < smaller_last_val]\n",
    "df_merged_trunc.tail()"
   ]
  },
  {
   "cell_type": "markdown",
   "metadata": {},
   "source": [
    "Recall that the `servo output` is the amount the servo has extended from its initial position. In other words, by itself, `servo output` is not technically enough information to tell us how close or far the linear servo, i.e. ant stimulus, is from the beetle on the ball. For example, if the linear servo + ant tether was positioned very far from the beetle on the ball, then even at the linear servo's full extension, the ant will not touch the beetle. In other words, we have to make an approximation of how far the ant stimulus is from the beetle, when linear servo is fully extended. Making this measurement with both insects tethered is ... not practical, especially without preemptively releasing interaction behaviours. We instead have to make a simplifying assumption--that the full extension of the linear servo is approximately close enough to exactly make contact between the tethered beetle and the presented ant stimulus. From experimental observation, this assumption is reasonable, but the exact value will differ from trial to trial. I should think about a way of consistently measuring this distance so I that future experiments are more reproducible. "
   ]
  },
  {
   "cell_type": "markdown",
   "metadata": {},
   "source": [
    "If we assume the linear servo's full extension of 27 mm is when the ant exactly makes contact with the beetle, we can calculate how far the ant is from the tethered beetle:\n",
    "\n",
    "\\begin{equation}\n",
    "\\text{distance apart (mm)} = \\text{27 mm} - \\text{servo output (mm)}\n",
    "\\end{equation}"
   ]
  },
  {
   "cell_type": "code",
   "execution_count": null,
   "metadata": {},
   "outputs": [],
   "source": [
    "df_merged_trunc[\"dist_from_stim\"] = 27 - df_merged_trunc[\"Servo output (mm)\"]\n",
    "df_merged_trunc.tail(3)"
   ]
  },
  {
   "cell_type": "markdown",
   "metadata": {},
   "source": [
    "My stepper motor homes to a reed switch and sets that home position as position 0. We can see from the dataset's initial observation below that the stepper position indeed starts at 0 degrees:"
   ]
  },
  {
   "cell_type": "code",
   "execution_count": null,
   "metadata": {},
   "outputs": [],
   "source": [
    "df_merged_trunc.head(3)"
   ]
  },
  {
   "cell_type": "markdown",
   "metadata": {},
   "source": [
    "From watching the FicTrac video, we can tell that when `stepper output (degs)` is 0, the beetle and ant are pointed in the same direction in true physical space. Therefore, the initial heading frame of reference of \"0\", is the same for both the beetle and the ant. In addition, `Stepper output (degs)` _**increases**_ in value when the stepper moves _**clockwise**_; clockwise here assumes that the observer is looking at the rig from the top-down. "
   ]
  },
  {
   "cell_type": "code",
   "execution_count": null,
   "metadata": {},
   "outputs": [],
   "source": [
    "# TODO: MAKE A MARKDOWN CELL EXPLAINING THE TRIG IN DETAIL"
   ]
  },
  {
   "cell_type": "code",
   "execution_count": null,
   "metadata": {},
   "outputs": [],
   "source": [
    "df_merged_trunc['stim_X_mm'] = df_merged_trunc.apply(lambda row: (row[\"X_mm\"] + (row[\"dist_from_stim\"] * np.cos(np.deg2rad(row[\"Stepper output (degs)\"])))), axis=1)\n",
    "df_merged_trunc['stim_Y_mm'] = df_merged_trunc.apply(lambda row: (row[\"Y_mm\"] + (row[\"dist_from_stim\"] * np.sin(np.deg2rad(row[\"Stepper output (degs)\"])))), axis=1)"
   ]
  },
  {
   "cell_type": "markdown",
   "metadata": {},
   "source": [
    "We check that we get reasonable values for the stimulus X and Y coordinates:"
   ]
  },
  {
   "cell_type": "code",
   "execution_count": null,
   "metadata": {},
   "outputs": [],
   "source": [
    "df_merged_trunc.loc[df_merged_trunc[\"Stepper output (degs)\"] > 0.42].head(3)"
   ]
  },
  {
   "cell_type": "code",
   "execution_count": null,
   "metadata": {},
   "outputs": [],
   "source": [
    "from analyze_stimulus import plot_fictrac_XY_with_stim\n",
    "\n",
    "df_plot = df_merged_trunc\n",
    "# df_plot = df_plot[::5]\n",
    "# plot_fictrac_XY_with_stim(df_plot, high_percentile=97, alpha=0.06, size=2) "
   ]
  },
  {
   "cell_type": "markdown",
   "metadata": {},
   "source": [
    "## Alternative fill method: interpolation"
   ]
  },
  {
   "cell_type": "markdown",
   "metadata": {},
   "source": [
    "Instead of doing a forward fill method where we propagate the last valid observation, we can make an interpolation of what the NaN values might be. "
   ]
  },
  {
   "cell_type": "code",
   "execution_count": null,
   "metadata": {},
   "outputs": [],
   "source": [
    "df_merged_no_fill = pd.merge_ordered(stim_df, fictrac_df, on=\"secs_elapsed\", fill_method=None)\n",
    "\n",
    "# Drop anything larger than the smaller last val:\n",
    "df_merged_no_fill_trunc = df_merged_no_fill[df_merged_no_fill.secs_elapsed < smaller_last_val]\n",
    "df_merged_no_fill_trunc.tail()"
   ]
  },
  {
   "cell_type": "markdown",
   "metadata": {},
   "source": [
    "We use a linear interpolation. Understand that the beginning `NaN` values will not be interpolated, because those values are not preceded by valid observations, they are only proceeded by valid observations. In addition, non-numeric values will not be interpolated. We can fill those `NaN`s with a forward fill:"
   ]
  },
  {
   "cell_type": "code",
   "execution_count": null,
   "metadata": {},
   "outputs": [],
   "source": [
    "df_merged_trunc_interp = df_merged_no_fill_trunc.interpolate()"
   ]
  },
  {
   "cell_type": "code",
   "execution_count": null,
   "metadata": {},
   "outputs": [],
   "source": [
    "df_merged_trunc_interp.tail()"
   ]
  },
  {
   "cell_type": "code",
   "execution_count": null,
   "metadata": {},
   "outputs": [],
   "source": [
    "df_merged_trunc_interp = df_merged_trunc_interp.ffill(axis=0)\n",
    "df_merged_trunc_interp.tail()"
   ]
  },
  {
   "cell_type": "markdown",
   "metadata": {},
   "source": [
    "We proceed with the rest of the pipeline:"
   ]
  },
  {
   "cell_type": "code",
   "execution_count": null,
   "metadata": {},
   "outputs": [],
   "source": [
    "df_merged_trunc_interp[\"dist_from_stim\"] = 27 - df_merged_trunc_interp[\"Servo output (mm)\"]\n",
    "\n",
    "df_merged_trunc_interp['stim_X_mm'] = df_merged_trunc_interp.apply(lambda row: (row[\"X_mm\"] + (row[\"dist_from_stim\"] * np.cos(np.deg2rad(row[\"Stepper output (degs)\"])))), axis=1)\n",
    "df_merged_trunc_interp['stim_Y_mm'] = df_merged_trunc_interp.apply(lambda row: (row[\"Y_mm\"] + (row[\"dist_from_stim\"] * np.sin(np.deg2rad(row[\"Stepper output (degs)\"])))), axis=1)\n",
    "\n",
    "df_merged_trunc_interp.tail()"
   ]
  },
  {
   "cell_type": "code",
   "execution_count": null,
   "metadata": {},
   "outputs": [],
   "source": [
    "from analyze_stimulus import plot_fictrac_XY_with_stim\n",
    "\n",
    "plot_fictrac_XY_with_stim(df_merged_trunc_interp)"
   ]
  },
  {
   "cell_type": "markdown",
   "metadata": {},
   "source": [
    "## Test `analyze_stimulus.py` functions:"
   ]
  },
  {
   "cell_type": "code",
   "execution_count": null,
   "metadata": {},
   "outputs": [],
   "source": [
    "from analyze_stimulus import parse_2dof_stimulus, merge_stimulus_with_data, make_stimulus_trajectory, plot_fictrac_XY_with_stim\n",
    "\n",
    "# Use Platyusa open loop data as test:\n",
    "stims = parse_2dof_stimulus(\"/mnt/2TB/data_in/HK_20200317/pson_open_loop/\", 1, 0, 27, 27)\n",
    "merged = merge_stimulus_with_data(stims, pson_open_loop, fill_method=\"linear\")\n",
    "stimmed = make_stimulus_trajectory(merged)\n",
    "\n",
    "# Pull one out and plot:\n",
    "stimmed_6 = unconcat_df(stimmed)[6]\n",
    "plot_fictrac_XY_with_stim(stimmed_6, high_percentile=97, alpha=0.06, size=2) "
   ]
  }
 ],
 "metadata": {
  "kernelspec": {
   "display_name": "Python [conda env:with_plotly]",
   "language": "python",
   "name": "conda-env-with_plotly-py"
  },
  "language_info": {
   "codemirror_mode": {
    "name": "ipython",
    "version": 3
   },
   "file_extension": ".py",
   "mimetype": "text/x-python",
   "name": "python",
   "nbconvert_exporter": "python",
   "pygments_lexer": "ipython3",
   "version": "3.7.7"
  }
 },
 "nbformat": 4,
 "nbformat_minor": 4
}
