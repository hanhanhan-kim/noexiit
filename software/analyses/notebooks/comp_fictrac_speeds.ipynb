version https://git-lfs.github.com/spec/v1
oid sha256:3b42a3c6b86bf1d6e2fdbe78c67f0687af726b5c169b6fab0bbb1e99184f1ba0
size 20615041
