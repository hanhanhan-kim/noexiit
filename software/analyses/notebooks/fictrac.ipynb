{
 "cells": [
  {
   "cell_type": "code",
   "execution_count": 1,
   "metadata": {},
   "outputs": [],
   "source": [
    "import argparse\n",
    "import glob\n",
    "from sys import exit, path\n",
    "from shutil import rmtree\n",
    "from os.path import join, expanduser, exists\n",
    "from os import mkdir\n",
    "import re\n",
    "\n",
    "import numpy as np\n",
    "import pandas as pd\n",
    "import scipy.interpolate as spi\n",
    "import scipy.signal as sps\n",
    "import scipy.signal as sps\n",
    "\n",
    "from bokeh.io import output_file, export_png, export_svgs, show\n",
    "from bokeh.transform import linear_cmap\n",
    "from bokeh.plotting import figure\n",
    "from bokeh.models import ColorBar, ColumnDataSource, Span\n",
    "from bokeh.layouts import gridplot\n",
    "from bokeh.palettes import brewer\n",
    "import colorcet as cc\n",
    "\n",
    "import bokeh_catplot\n",
    "\n",
    "path.insert(1, expanduser('~/src/cmocean-bokeh'))\n",
    "path.insert(1, expanduser('~/src/noexiit/software/analyses'))\n",
    "from fourier_transform import fft, bokeh_freq_domain\n",
    "from cmocean_cmaps import get_all_cmocean_colours"
   ]
  },
  {
   "cell_type": "code",
   "execution_count": 9,
   "metadata": {},
   "outputs": [
    {
     "name": "stdin",
     "output_type": "stream",
     "text": [
      "The ball_radius argument must be in mm. Confirm by inputting 'y'. Otherwise, hit any other key to quit. y\n",
      "The ball_radius argument must be in mm. Confirm by inputting 'y'. Otherwise, hit any other key to quit. y\n"
     ]
    }
   ],
   "source": [
    "from analyze_fictrac import parse_dats\n",
    "from analyze_fictrac import unconcat_df\n",
    "\n",
    "pson_open_loop = parse_dats(\"/mnt/2TB/data_in/HK_20200317/pson_open_loop/\", 1, 5)\n",
    "pson_closed_loop = parse_dats(\"/mnt/2TB/data_in/HK_20200317/pson_closed_loop_yaw_gain_unity/\", 1, 5)"
   ]
  },
  {
   "cell_type": "code",
   "execution_count": 7,
   "metadata": {},
   "outputs": [],
   "source": [
    "pson_closed_ = unconcat_df(pson_closed_loop)"
   ]
  },
  {
   "cell_type": "code",
   "execution_count": null,
   "metadata": {},
   "outputs": [],
   "source": []
  },
  {
   "cell_type": "code",
   "execution_count": null,
   "metadata": {},
   "outputs": [],
   "source": []
  }
 ],
 "metadata": {
  "kernelspec": {
   "display_name": "Python [conda env:analyses]",
   "language": "python",
   "name": "conda-env-analyses-py"
  },
  "language_info": {
   "codemirror_mode": {
    "name": "ipython",
    "version": 3
   },
   "file_extension": ".py",
   "mimetype": "text/x-python",
   "name": "python",
   "nbconvert_exporter": "python",
   "pygments_lexer": "ipython3",
   "version": "3.7.7"
  }
 },
 "nbformat": 4,
 "nbformat_minor": 4
}
